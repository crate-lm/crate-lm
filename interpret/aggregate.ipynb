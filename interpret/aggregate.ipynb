{
 "cells": [
  {
   "cell_type": "code",
   "execution_count": 2,
   "metadata": {},
   "outputs": [
    {
     "name": "stdout",
     "output_type": "stream",
     "text": [
      "mean and variance of data1:  (25.349999999999998, 14.593158214268312)\n",
      "mean and variance of data2:  (35.766666666666666, 13.075708606249819)\n",
      "mean and variance of data3:  (33.333333333333336, 2.2512860522130214)\n"
     ]
    }
   ],
   "source": [
    "# calculate mean and variance of a list of numbers\n",
    "import numpy as np\n",
    "\n",
    "def mean_std(data):\n",
    "    mean = np.mean(data)\n",
    "    std = np.std(data)\n",
    "    return mean, std\n",
    "\n",
    "data1 = [28.13,\n",
    "6.25,\n",
    "41.67]\n",
    "\n",
    "data2 = [25.00,\n",
    "28.13,\n",
    "54.17]\n",
    "\n",
    "data3 = [32.29,\n",
    "31.25,\n",
    "36.46]\n",
    "\n",
    "print(\"mean and variance of data1: \", mean_std(data1))\n",
    "print(\"mean and variance of data2: \", mean_std(data2))\n",
    "print(\"mean and variance of data3: \", mean_std(data3))"
   ]
  },
  {
   "cell_type": "code",
   "execution_count": 1,
   "metadata": {},
   "outputs": [],
   "source": [
    "crate_path = 'scores_crate.txt'\n",
    "gpt_path = 'scores_gpt.txt'\n",
    "\n",
    "with open(crate_path, 'r') as f:\n",
    "    crate_scores = f.readlines()\n",
    "\n",
    "with open(gpt_path, 'r') as f:\n",
    "    gpt_scores = f.readlines()"
   ]
  },
  {
   "cell_type": "code",
   "execution_count": 7,
   "metadata": {},
   "outputs": [],
   "source": [
    "def calc_scores(crate_scores):\n",
    "    crate_score_final = 0\n",
    "    for crate_score in crate_scores:\n",
    "        crate_score = crate_score.strip()\n",
    "        if crate_score.isdigit():\n",
    "            crate_score_final += int(crate_score)\n",
    "        else:\n",
    "            crate_score_final += 0\n",
    "    crate_score_final /= len(crate_scores)\n",
    "    return crate_score_final"
   ]
  },
  {
   "cell_type": "code",
   "execution_count": 8,
   "metadata": {},
   "outputs": [
    {
     "name": "stdout",
     "output_type": "stream",
     "text": [
      "crate score:  6.619883040935672\n",
      "gpt score:  7.089494163424124\n"
     ]
    }
   ],
   "source": [
    "print('crate score: ', calc_scores(crate_scores))\n",
    "print('gpt score: ', calc_scores(gpt_scores))"
   ]
  },
  {
   "cell_type": "code",
   "execution_count": null,
   "metadata": {},
   "outputs": [],
   "source": []
  }
 ],
 "metadata": {
  "kernelspec": {
   "display_name": "crate",
   "language": "python",
   "name": "python3"
  },
  "language_info": {
   "codemirror_mode": {
    "name": "ipython",
    "version": 3
   },
   "file_extension": ".py",
   "mimetype": "text/x-python",
   "name": "python",
   "nbconvert_exporter": "python",
   "pygments_lexer": "ipython3",
   "version": "3.9.0"
  }
 },
 "nbformat": 4,
 "nbformat_minor": 2
}
